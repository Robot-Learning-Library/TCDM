{
 "cells": [
  {
   "cell_type": "code",
   "execution_count": 1,
   "id": "25c656d9",
   "metadata": {
    "scrolled": true
   },
   "outputs": [],
   "source": [
    "import numpy as np\n",
    "import scipy.interpolate as interpolate"
   ]
  },
  {
   "cell_type": "code",
   "execution_count": 2,
   "id": "a48b78b1",
   "metadata": {},
   "outputs": [
    {
     "data": {
      "text/plain": [
       "dict_keys(['s_0', 'object_translation', 'object_orientation', 'length', 'SIM_SUBSTEPS', 'DATA_SUBSTEPS'])"
      ]
     },
     "execution_count": 2,
     "metadata": {},
     "output_type": "execute_result"
    }
   ],
   "source": [
    "env = ['duck_lift', 'banana_pass1', 'hammer_strike', 'mug_drink3', 'toothpaste_lift', 'cup_pour1'][-1]\n",
    "\n",
    "def load_motion(motion_file):\n",
    "    motion_file = np.load(motion_file, allow_pickle=True)\n",
    "    reference_motion =  {k:v for k, v in motion_file.items()}\n",
    "    reference_motion['s_0'] = reference_motion['s_0'][()]\n",
    "    return reference_motion\n",
    "data = load_motion(f'{env}.npz')\n",
    "data.keys()"
   ]
  },
  {
   "cell_type": "code",
   "execution_count": 3,
   "id": "274bfe10",
   "metadata": {},
   "outputs": [],
   "source": [
    "def data_analysis(data):\n",
    "    print('range of data: ', np.min(data, axis=0), np.max(data, axis=0))\n",
    "    print('start and end: ', data[0], data[-1])"
   ]
  },
  {
   "cell_type": "code",
   "execution_count": 4,
   "id": "b0a9a6b0",
   "metadata": {},
   "outputs": [
    {
     "name": "stdout",
     "output_type": "stream",
     "text": [
      "(70, 3)\n",
      "range of data:  [0.00021733 0.01439379 0.04935616] [0.11406032 0.0789675  0.5340245 ]\n",
      "start and end:  [0.00021733 0.01439379 0.05099917] [0.00939965 0.02524631 0.04942153]\n"
     ]
    }
   ],
   "source": [
    "print(data['object_translation'].shape)\n",
    "trans_data = data['object_translation']  # x, y, z\n",
    "data_analysis(trans_data)"
   ]
  },
  {
   "cell_type": "code",
   "execution_count": 5,
   "id": "0ecf2b1b",
   "metadata": {},
   "outputs": [
    {
     "name": "stdout",
     "output_type": "stream",
     "text": [
      "(70, 4)\n",
      "range of data:  [ 0.12903288 -0.32306112 -0.9469659   0.05384225] [7.36111304e-01 6.50364649e-04 1.27685397e-01 7.63220908e-01]\n",
      "start and end:  [ 0.67218806 -0.0157048   0.02013715  0.73993991] [6.77501636e-01 3.04603246e-04 8.47366569e-04 7.35520715e-01]\n"
     ]
    }
   ],
   "source": [
    "print(data['object_orientation'].shape)\n",
    "ori_data = data['object_orientation']\n",
    "data_analysis(ori_data)"
   ]
  },
  {
   "cell_type": "code",
   "execution_count": 6,
   "id": "aa334760",
   "metadata": {},
   "outputs": [],
   "source": [
    "def interpolate_data(data, points=None, initial_point=None, random_sample=5):\n",
    "    if points is None:\n",
    "        points = np.random.uniform(np.min(data), np.max(data), size=random_sample)\n",
    "    if initial_point is not None: # set the same initial point as original traj\n",
    "        points[0] = initial_point\n",
    "    else:\n",
    "        points[0] = data[0]\n",
    "    len_points = points.shape[0]\n",
    "    f = interpolate.interp1d(np.arange(len_points), points, kind='quadratic', fill_value=\"extrapolate\")  # ‘linear’, ‘nearest’, ‘nearest-up’, ‘zero’, ‘slinear’, ‘quadratic’, ‘cubic’, ‘previous’, or ‘next’. \n",
    "\n",
    "    x_new = np.arange(0, len_points-1, (len_points-1)/data.shape[0])\n",
    "    y_new = f(x_new)\n",
    "    y_new[-1] = points[-1]\n",
    "    return y_new"
   ]
  },
  {
   "cell_type": "code",
   "execution_count": 7,
   "id": "d4a33c34",
   "metadata": {},
   "outputs": [
    {
     "name": "stdout",
     "output_type": "stream",
     "text": [
      "[[-0.27769211  0.1102967   0.05084249]\n",
      " [-0.27769211  0.1102967   0.45084249]\n",
      " [-0.27769211  0.3102967  -0.04915751]]\n",
      "(70, 3)\n"
     ]
    }
   ],
   "source": [
    "import copy\n",
    "new_trans_data = []\n",
    "new_points = np.array([copy.deepcopy(data['object_translation'][0]) for _ in range(3)])\n",
    "\n",
    "# set offset for the stating point (original 0,0,0)\n",
    "# considering the range of robot hand: TCDM/tcdm/envs/assets/robots/adroit/actuators.xml\n",
    "# x: [-0.25, 0.25], y: [-0.2, 0.1], z: [-0.3, 0.5]\n",
    "# offset = [-0.2, 0.1, 0]\n",
    "offset = [-2.7790944e-01,  9.59029101e-02, -1.56684530e-04]\n",
    "# offset = [0., 0., 0]\n",
    "\n",
    "data['s_0']['motion_planned']['position'][30:33] += offset  # obj: (x, y, z)\n",
    "data['s_0']['motion_planned']['position'][0] -= offset[0]  # hand: (-x, z, y)\n",
    "data['s_0']['motion_planned']['position'][1] += offset[2]  # hand: (-x, z, y)\n",
    "data['s_0']['motion_planned']['position'][2] += offset[1]  # hand: (-x, z, y)\n",
    "\n",
    "# no need to change this\n",
    "# data['s_0']['initialized']['position'][30:33] += offset  # obj: (x, y, z)\n",
    "# data['s_0']['initialized']['position'][0] -= offset[0]  # hand: (-x, z, y)\n",
    "# data['s_0']['initialized']['position'][1] += offset[2]  # hand: (-x, z, y)\n",
    "# data['s_0']['initialized']['position'][2] += offset[1]  # hand: (-x, z, y)\n",
    "\n",
    "# set points for arbirary trajectory\n",
    "new_points[1][2] += 0.4 # z\n",
    "new_points[2][1] += 0.2 # y\n",
    "new_points[2][2] += -0.1 # z\n",
    "\n",
    "new_points[:] += offset\n",
    "\n",
    "\n",
    "print(new_points)\n",
    "for i, (d, nd) in enumerate(zip(trans_data.T, new_points.T)):\n",
    "    if data['s_0']['motion_planned']['position'].shape[0] == 36: # 30 hand + 3 pos + 3 ori of object\n",
    "        initial_point = data['s_0']['motion_planned']['position'][30+i] # set the original position as initial sampled point position\n",
    "    else:\n",
    "        initial_point = None\n",
    "    new_trans_data.append(interpolate_data(d, nd, initial_point))\n",
    "new_trans_data = np.array(new_trans_data).T\n",
    "print(new_trans_data.shape)\n",
    "\n",
    "\n",
    "# new_ori_data = []\n",
    "# for d in ori_data.T:\n",
    "#     new_ori_data.append(interpolate_data(d))\n",
    "# new_ori_data = np.array(new_ori_data).T\n",
    "# print(new_ori_data.shape)\n",
    "new_ori_data = ori_data"
   ]
  },
  {
   "cell_type": "code",
   "execution_count": 8,
   "id": "4675e954",
   "metadata": {},
   "outputs": [
    {
     "name": "stdout",
     "output_type": "stream",
     "text": [
      "dict_keys(['s_0', 'object_translation', 'object_orientation', 'length', 'SIM_SUBSTEPS', 'DATA_SUBSTEPS', 'initial_translation_offset']) 10\n"
     ]
    }
   ],
   "source": [
    "import copy\n",
    "save_dir = f'specified_trajs/{env}'\n",
    "os.makedirs(save_dir, exist_ok=True)\n",
    "new_traj = copy.copy(dict(data))\n",
    "\n",
    "new_traj['object_translation'] = new_trans_data\n",
    "new_traj['object_orientation'] = new_ori_data\n",
    "new_traj['initial_translation_offset'] = offset\n",
    "print(new_traj.keys(), new_traj['SIM_SUBSTEPS'])\n",
    "np.savez(save_dir+f'/{env}', **new_traj)  # save a dict as npz"
   ]
  },
  {
   "cell_type": "code",
   "execution_count": null,
   "id": "39c194c7",
   "metadata": {},
   "outputs": [],
   "source": []
  },
  {
   "cell_type": "code",
   "execution_count": null,
   "id": "6d72285e",
   "metadata": {},
   "outputs": [],
   "source": []
  },
  {
   "cell_type": "code",
   "execution_count": null,
   "id": "226ca279",
   "metadata": {},
   "outputs": [],
   "source": []
  }
 ],
 "metadata": {
  "kernelspec": {
   "display_name": "Python 3.7.0 ('x')",
   "language": "python",
   "name": "python3"
  },
  "language_info": {
   "codemirror_mode": {
    "name": "ipython",
    "version": 3
   },
   "file_extension": ".py",
   "mimetype": "text/x-python",
   "name": "python",
   "nbconvert_exporter": "python",
   "pygments_lexer": "ipython3",
   "version": "3.7.0"
  },
  "vscode": {
   "interpreter": {
    "hash": "28c6861e59928cb790236f7047915368f37afc12f670e78fd0101a6f825a02b1"
   }
  }
 },
 "nbformat": 4,
 "nbformat_minor": 5
}

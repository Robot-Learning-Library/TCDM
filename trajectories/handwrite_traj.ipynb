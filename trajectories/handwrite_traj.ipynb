{
 "cells": [
  {
   "cell_type": "code",
   "execution_count": 1,
   "id": "25c656d9",
   "metadata": {
    "scrolled": true
   },
   "outputs": [],
   "source": [
    "import numpy as np\n",
    "import scipy.interpolate as interpolate"
   ]
  },
  {
   "cell_type": "code",
   "execution_count": 2,
   "id": "a48b78b1",
   "metadata": {},
   "outputs": [
    {
     "data": {
      "text/plain": [
       "dict_keys(['s_0', 'object_translation', 'object_orientation', 'length', 'SIM_SUBSTEPS', 'DATA_SUBSTEPS'])"
      ]
     },
     "execution_count": 2,
     "metadata": {},
     "output_type": "execute_result"
    }
   ],
   "source": [
    "env = ['duck_lift', 'banana_pass1', 'hammer_strike', 'mug_drink3', 'toothpaste_lift'][1]\n",
    "\n",
    "def load_motion(motion_file):\n",
    "    motion_file = np.load(motion_file, allow_pickle=True)\n",
    "    reference_motion =  {k:v for k, v in motion_file.items()}\n",
    "    reference_motion['s_0'] = reference_motion['s_0'][()]\n",
    "    return reference_motion\n",
    "data = load_motion(f'{env}.npz')\n",
    "data.keys()"
   ]
  },
  {
   "cell_type": "code",
   "execution_count": 3,
   "id": "274bfe10",
   "metadata": {},
   "outputs": [],
   "source": [
    "def data_analysis(data):\n",
    "    print('range of data: ', np.min(data, axis=0), np.max(data, axis=0))\n",
    "    print('start and end: ', data[0], data[-1])"
   ]
  },
  {
   "cell_type": "code",
   "execution_count": 4,
   "id": "b0a9a6b0",
   "metadata": {},
   "outputs": [
    {
     "name": "stdout",
     "output_type": "stream",
     "text": [
      "(85, 3)\n",
      "range of data:  [-0.70285299 -0.35366713  0.02179257] [0.01706983 0.01321431 0.55898088]\n",
      "start and end:  [0.01581072 0.00295353 0.02179257] [-0.01099001  0.00878092  0.02207721]\n"
     ]
    }
   ],
   "source": [
    "print(data['object_translation'].shape)\n",
    "trans_data = data['object_translation']  # x, y, z\n",
    "data_analysis(trans_data)"
   ]
  },
  {
   "cell_type": "code",
   "execution_count": 5,
   "id": "0ecf2b1b",
   "metadata": {},
   "outputs": [
    {
     "name": "stdout",
     "output_type": "stream",
     "text": [
      "(85, 4)\n",
      "range of data:  [-0.01016247 -0.56241563 -0.95845037 -0.16493395] [ 0.43403841  0.39782112 -0.82672528  0.14262531]\n",
      "start and end:  [-0.01016247 -0.54517913 -0.83663868 -0.05207832] [ 0.00507332 -0.33996464 -0.93817065 -0.06507026]\n"
     ]
    }
   ],
   "source": [
    "print(data['object_orientation'].shape)\n",
    "ori_data = data['object_orientation']\n",
    "data_analysis(ori_data)"
   ]
  },
  {
   "cell_type": "code",
   "execution_count": 6,
   "id": "aa334760",
   "metadata": {},
   "outputs": [],
   "source": [
    "def interpolate_data(data, points=None, initial_point=None, random_sample=5):\n",
    "    if points is None:\n",
    "        points = np.random.uniform(np.min(data), np.max(data), size=random_sample)\n",
    "    if initial_point is not None: # set the same initial point as original traj\n",
    "        points[0] = initial_point\n",
    "    else:\n",
    "        points[0] = data[0]\n",
    "    len_points = points.shape[0]\n",
    "    f = interpolate.interp1d(np.arange(len_points), points, kind='quadratic', fill_value=\"extrapolate\")  # ‘linear’, ‘nearest’, ‘nearest-up’, ‘zero’, ‘slinear’, ‘quadratic’, ‘cubic’, ‘previous’, or ‘next’. \n",
    "\n",
    "    x_new = np.arange(0, len_points-1, (len_points-1)/data.shape[0])\n",
    "    y_new = f(x_new)\n",
    "    y_new[-1] = points[-1]\n",
    "    return y_new"
   ]
  },
  {
   "cell_type": "code",
   "execution_count": 7,
   "id": "d4a33c34",
   "metadata": {},
   "outputs": [
    {
     "name": "stdout",
     "output_type": "stream",
     "text": [
      "[[ 0.01581072  0.30295353  0.02179257]\n",
      " [ 0.01581072  0.30295353  0.42179257]\n",
      " [ 0.01581072  0.50295353 -0.07820743]]\n",
      "(85, 3)\n"
     ]
    }
   ],
   "source": [
    "import copy\n",
    "new_trans_data = []\n",
    "new_points = np.array([copy.deepcopy(data['object_translation'][0]) for _ in range(3)])\n",
    "\n",
    "# set offset for the stating point (original 0,0,0)\n",
    "offset = [0., 0.3, 0]\n",
    "data['s_0']['motion_planned']['position'][30:33] += offset  # obj: (x, y, z)\n",
    "data['s_0']['motion_planned']['position'][0] -= offset[0]  # hand: (-x, z, y)\n",
    "data['s_0']['motion_planned']['position'][1] += offset[2]  # hand: (-x, z, y)\n",
    "data['s_0']['motion_planned']['position'][2] += offset[1]  # hand: (-x, z, y)\n",
    "\n",
    "# no need to change this\n",
    "# data['s_0']['initialized']['position'][30:33] += offset  # obj: (x, y, z)\n",
    "# data['s_0']['initialized']['position'][0] -= offset[0]  # hand: (-x, z, y)\n",
    "# data['s_0']['initialized']['position'][1] += offset[2]  # hand: (-x, z, y)\n",
    "# data['s_0']['initialized']['position'][2] += offset[1]  # hand: (-x, z, y)\n",
    "\n",
    "# set points for arbirary trajectory\n",
    "new_points[1][2] += 0.4 # z\n",
    "new_points[2][1] += 0.2 # y\n",
    "new_points[2][2] += -0.1 # z\n",
    "\n",
    "new_points[:] += offset\n",
    "\n",
    "\n",
    "print(new_points)\n",
    "for i, (d, nd) in enumerate(zip(trans_data.T, new_points.T)):\n",
    "    if data['s_0']['motion_planned']['position'].shape[0] == 36: # 30 hand + 3 pos + 3 ori of object\n",
    "        initial_point = data['s_0']['motion_planned']['position'][30+i] # set the original position as initial sampled point position\n",
    "    else:\n",
    "        initial_point = None\n",
    "    new_trans_data.append(interpolate_data(d, nd, initial_point))\n",
    "new_trans_data = np.array(new_trans_data).T\n",
    "print(new_trans_data.shape)\n",
    "\n",
    "\n",
    "# new_ori_data = []\n",
    "# for d in ori_data.T:\n",
    "#     new_ori_data.append(interpolate_data(d))\n",
    "# new_ori_data = np.array(new_ori_data).T\n",
    "# print(new_ori_data.shape)\n",
    "new_ori_data = ori_data"
   ]
  },
  {
   "cell_type": "code",
   "execution_count": 8,
   "id": "4675e954",
   "metadata": {},
   "outputs": [
    {
     "name": "stdout",
     "output_type": "stream",
     "text": [
      "dict_keys(['s_0', 'object_translation', 'object_orientation', 'length', 'SIM_SUBSTEPS', 'DATA_SUBSTEPS', 'initial_translation_offset']) 3\n"
     ]
    }
   ],
   "source": [
    "import copy\n",
    "save_dir = f'specified_trajs'\n",
    "os.makedirs(save_dir, exist_ok=True)\n",
    "new_traj = copy.copy(dict(data))\n",
    "\n",
    "new_traj['object_translation'] = new_trans_data\n",
    "new_traj['object_orientation'] = new_ori_data\n",
    "new_traj['SIM_SUBSTEPS'] = int(data['SIM_SUBSTEPS']/3)\n",
    "new_traj['initial_translation_offset'] = offset\n",
    "print(new_traj.keys(), new_traj['SIM_SUBSTEPS'])\n",
    "np.savez(save_dir+f'/{env}', **new_traj)  # save a dict as npz"
   ]
  },
  {
   "cell_type": "code",
   "execution_count": null,
   "id": "39c194c7",
   "metadata": {},
   "outputs": [],
   "source": []
  }
 ],
 "metadata": {
  "interpreter": {
   "hash": "28c6861e59928cb790236f7047915368f37afc12f670e78fd0101a6f825a02b1"
  },
  "kernelspec": {
   "display_name": "Python 3.7.0 64-bit ('x': conda)",
   "name": "python3"
  },
  "language_info": {
   "codemirror_mode": {
    "name": "ipython",
    "version": 3
   },
   "file_extension": ".py",
   "mimetype": "text/x-python",
   "name": "python",
   "nbconvert_exporter": "python",
   "pygments_lexer": "ipython3",
   "version": "3.7.0"
  }
 },
 "nbformat": 4,
 "nbformat_minor": 5
}

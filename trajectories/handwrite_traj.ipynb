{
 "cells": [
  {
   "cell_type": "code",
   "execution_count": 2,
   "metadata": {
    "scrolled": true
   },
   "outputs": [],
   "source": [
    "import numpy as np\n",
    "import scipy.interpolate as interpolate"
   ]
  },
  {
   "cell_type": "code",
   "execution_count": 43,
   "metadata": {},
   "outputs": [
    {
     "data": {
      "text/plain": [
       "dict_keys(['s_0', 'object_translation', 'object_orientation', 'length', 'SIM_SUBSTEPS', 'DATA_SUBSTEPS'])"
      ]
     },
     "execution_count": 43,
     "metadata": {},
     "output_type": "execute_result"
    }
   ],
   "source": [
    "env = ['duck_lift', 'banana_pass1', 'hammer_strike', 'mug_drink3', 'toothpaste_lift'][-1]\n",
    "# data = np.load(f'{env}.npz', allow_pickle=True,)\n",
    "# entries = data.files\n",
    "# print(entries)\n",
    "def load_motion(motion_file):\n",
    "    motion_file = np.load(motion_file, allow_pickle=True)\n",
    "    reference_motion =  {k:v for k, v in motion_file.items()}\n",
    "    reference_motion['s_0'] = reference_motion['s_0'][()]\n",
    "    return reference_motion\n",
    "data = load_motion(f'{env}.npz')\n",
    "data.keys()"
   ]
  },
  {
   "cell_type": "code",
   "execution_count": 44,
   "metadata": {},
   "outputs": [],
   "source": [
    "def data_analysis(data):\n",
    "    print('range of data: ', np.min(data, axis=0), np.max(data, axis=0))\n",
    "    print('start and end: ', data[0], data[-1])"
   ]
  },
  {
   "cell_type": "code",
   "execution_count": 45,
   "metadata": {},
   "outputs": [
    {
     "name": "stdout",
     "output_type": "stream",
     "text": [
      "(44, 3)\n",
      "range of data:  [-0.00423752 -0.02918028  0.01676679] [0.02003396 0.00393653 0.23768179]\n",
      "start and end:  [-0.00238724  0.00120428  0.01676679] [ 0.01904994 -0.02066231  0.01732265]\n"
     ]
    }
   ],
   "source": [
    "print(data['object_translation'].shape)\n",
    "trans_data = data['object_translation']  # x, y, z\n",
    "data_analysis(trans_data)"
   ]
  },
  {
   "cell_type": "code",
   "execution_count": 46,
   "metadata": {},
   "outputs": [
    {
     "name": "stdout",
     "output_type": "stream",
     "text": [
      "(44, 4)\n",
      "range of data:  [ 0.6711423  -0.2323463  -0.66860282 -0.30602647] [ 0.7219608  -0.16035895 -0.60405616 -0.2188484 ]\n",
      "start and end:  [ 0.67822219 -0.2323463  -0.65430795 -0.24064697] [ 0.68366748 -0.22081987 -0.65895671 -0.2227407 ]\n"
     ]
    }
   ],
   "source": [
    "print(data['object_orientation'].shape)\n",
    "ori_data = data['object_orientation']\n",
    "data_analysis(ori_data)"
   ]
  },
  {
   "cell_type": "code",
   "execution_count": 47,
   "metadata": {},
   "outputs": [],
   "source": [
    "def interpolate_data(data, points=None, initial_point=None, random_sample=5):\n",
    "    if points is None:\n",
    "        points = np.random.uniform(np.min(data), np.max(data), size=random_sample)\n",
    "    if initial_point is not None: # set the same initial point as original traj\n",
    "        points[0] = initial_point\n",
    "    else:\n",
    "        points[0] = data[0]\n",
    "    len_points = points.shape[0]\n",
    "    f = interpolate.interp1d(np.arange(len_points), points, kind='quadratic', fill_value=\"extrapolate\")  # ‘linear’, ‘nearest’, ‘nearest-up’, ‘zero’, ‘slinear’, ‘quadratic’, ‘cubic’, ‘previous’, or ‘next’. \n",
    "\n",
    "    x_new = np.arange(0, len_points-1, (len_points-1)/data.shape[0])\n",
    "    y_new = f(x_new)\n",
    "    y_new[-1] = points[-1]\n",
    "    return y_new"
   ]
  },
  {
   "cell_type": "code",
   "execution_count": 48,
   "metadata": {},
   "outputs": [
    {
     "name": "stdout",
     "output_type": "stream",
     "text": [
      "[[-0.00238724  0.00120428  0.01676679]\n",
      " [-0.00238724  0.00120428  0.41676679]\n",
      " [-0.00238724  0.20120428 -0.08323321]]\n",
      "(44, 3)\n"
     ]
    }
   ],
   "source": [
    "import copy\n",
    "new_trans_data = []\n",
    "new_points = np.array([copy.deepcopy(data['object_translation'][0]) for _ in range(3)])\n",
    "new_points[1][2] += 0.4 # z\n",
    "new_points[2][1] += 0.2 # y\n",
    "new_points[2][2] += -0.1 # z\n",
    "\n",
    "print(new_points)\n",
    "for d, nd in zip(trans_data.T, new_points.T):\n",
    "    new_trans_data.append(interpolate_data(d, nd))\n",
    "new_trans_data = np.array(new_trans_data).T\n",
    "print(new_trans_data.shape)\n",
    "\n",
    "# new_ori_data = []\n",
    "# for d in ori_data.T:\n",
    "#     new_ori_data.append(interpolate_data(d))\n",
    "# new_ori_data = np.array(new_ori_data).T\n",
    "# print(new_ori_data.shape)\n",
    "new_ori_data = ori_data"
   ]
  },
  {
   "cell_type": "code",
   "execution_count": 49,
   "metadata": {},
   "outputs": [
    {
     "name": "stdout",
     "output_type": "stream",
     "text": [
      "dict_keys(['s_0', 'object_translation', 'object_orientation', 'length', 'SIM_SUBSTEPS', 'DATA_SUBSTEPS'])\n"
     ]
    }
   ],
   "source": [
    "import copy\n",
    "save_dir = f'specified_trajs'\n",
    "os.makedirs(save_dir, exist_ok=True)\n",
    "new_traj = copy.copy(dict(data))\n",
    "\n",
    "new_traj['object_translation'] = new_trans_data\n",
    "new_traj['object_orientation'] = new_ori_data\n",
    "print(new_traj.keys())\n",
    "np.savez(save_dir+f'/{env}', **new_traj)  # save a dict as npz"
   ]
  },
  {
   "cell_type": "code",
   "execution_count": null,
   "metadata": {},
   "outputs": [],
   "source": []
  }
 ],
 "metadata": {
  "interpreter": {
   "hash": "28c6861e59928cb790236f7047915368f37afc12f670e78fd0101a6f825a02b1"
  },
  "kernelspec": {
   "display_name": "Python 3.7.0 64-bit ('x': conda)",
   "name": "python3"
  },
  "language_info": {
   "codemirror_mode": {
    "name": "ipython",
    "version": 3
   },
   "file_extension": ".py",
   "mimetype": "text/x-python",
   "name": "python",
   "nbconvert_exporter": "python",
   "pygments_lexer": "ipython3",
   "version": "3.7.0"
  }
 },
 "nbformat": 4,
 "nbformat_minor": 5
}

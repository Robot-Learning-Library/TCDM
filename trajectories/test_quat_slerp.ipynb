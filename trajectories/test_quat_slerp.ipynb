{
 "cells": [
  {
   "cell_type": "code",
   "execution_count": 4,
   "source": [
    "import numpy as np\n",
    "!pip install scipy\n",
    "import scipy.interpolate as interpolate\n",
    "from scipy.spatial.transform import Slerp\n",
    "from scipy.spatial.transform import Rotation as R"
   ],
   "outputs": [
    {
     "output_type": "stream",
     "name": "stdout",
     "text": [
      "Requirement already satisfied: scipy in /home/quantumiracle/anaconda3/envs/vima/lib/python3.9/site-packages (1.9.3)\n",
      "Requirement already satisfied: numpy<1.26.0,>=1.18.5 in /home/quantumiracle/anaconda3/envs/vima/lib/python3.9/site-packages (from scipy) (1.23.4)\n"
     ]
    }
   ],
   "metadata": {
    "scrolled": true
   }
  },
  {
   "cell_type": "code",
   "execution_count": 5,
   "source": [
    "env = ['duck_lift', 'banana_pass1', 'hammer_strike'][-1]\n",
    "# data = np.load(f'{env}.npz', allow_pickle=True,)\n",
    "# entries = data.files\n",
    "# print(entries)\n",
    "def load_motion(motion_file):\n",
    "    motion_file = np.load(motion_file, allow_pickle=True)\n",
    "    reference_motion =  {k:v for k, v in motion_file.items()}\n",
    "    reference_motion['s_0'] = reference_motion['s_0'][()]\n",
    "    return reference_motion\n",
    "data = load_motion(f'{env}.npz')\n",
    "data.keys()"
   ],
   "outputs": [
    {
     "output_type": "execute_result",
     "data": {
      "text/plain": [
       "dict_keys(['length', 'SIM_SUBSTEPS', 'DATA_SUBSTEPS', 'object_translation', 'object_orientation', 's_0'])"
      ]
     },
     "metadata": {},
     "execution_count": 5
    }
   ],
   "metadata": {}
  },
  {
   "cell_type": "code",
   "execution_count": 6,
   "source": [
    "def data_analysis(data):\n",
    "    print('range of data: ', np.min(data, axis=0), np.max(data, axis=0))\n",
    "    print('start and end: ', data[0], data[-1])"
   ],
   "outputs": [],
   "metadata": {}
  },
  {
   "cell_type": "code",
   "execution_count": 7,
   "source": [
    "print(data['object_translation'].shape)\n",
    "trans_data = data['object_translation']\n",
    "data_analysis(trans_data)"
   ],
   "outputs": [
    {
     "output_type": "stream",
     "name": "stdout",
     "text": [
      "(59, 3)\n",
      "range of data:  [-0.13407614 -0.20917316  0.04889371] [ 0.07301792 -0.11842044  0.22849914]\n",
      "start and end:  [-0.12142183 -0.20917316  0.04889371] [-0.08168487 -0.15548259  0.18643826]\n"
     ]
    }
   ],
   "metadata": {}
  },
  {
   "cell_type": "code",
   "execution_count": 8,
   "source": [
    "print(data['object_orientation'].shape)\n",
    "ori_data = data['object_orientation']\n",
    "data_analysis(ori_data)"
   ],
   "outputs": [
    {
     "output_type": "stream",
     "name": "stdout",
     "text": [
      "(59, 4)\n",
      "range of data:  [ 0.55069668  0.70205983 -0.30280827 -0.21246096] [ 0.70803234  0.81144097 -0.04634558  0.04666741]\n",
      "start and end:  [ 0.70803234  0.70205983 -0.06042589  0.04637796] [ 0.61398888  0.7786923  -0.11786583 -0.05256997]\n"
     ]
    }
   ],
   "metadata": {}
  },
  {
   "cell_type": "code",
   "execution_count": 9,
   "source": [
    "def interpolate_data(data, random_sample=5):\n",
    "    points = np.random.uniform(np.min(data), np.max(data), size=random_sample)\n",
    "    points = np.concatenate([[data[0]], points])\n",
    "    len_points = points.shape[0]\n",
    "    f = interpolate.interp1d(np.arange(len_points), points, kind='quadratic', fill_value=\"extrapolate\")  # ‘linear’, ‘nearest’, ‘nearest-up’, ‘zero’, ‘slinear’, ‘quadratic’, ‘cubic’, ‘previous’, or ‘next’. \n",
    "\n",
    "    x_new = np.arange(0, len_points-1, (len_points-1)/data.shape[0])\n",
    "    y_new = f(x_new)\n",
    "    y_new[-1] = points[-1]\n",
    "    return y_new\n",
    "\n",
    "def interpolate_quat(data):\n",
    "    random_quat = np.random.uniform(0, 1, size=(1,4))\n",
    "    random_rot = R.from_quat(random_quat)\n",
    "    # what if final quat is not feasible (s.t. object intercepting the table)?\n",
    "\n",
    "    init_rot = R.from_quat(np.hstack((data[0,-1], data[0,:3])))\n",
    "    quats = R.concatenate([init_rot, random_rot])\n",
    "    len_quats = 2\n",
    "    f = Slerp(np.arange(len_quats), quats)\n",
    "\n",
    "    x_new = np.arange(0, len_quats-1, (len_quats-1)/data.shape[0])\n",
    "    y_new = f(x_new)\n",
    "    # y_new[-1] = len_quats[-1]\n",
    "    return y_new\n"
   ],
   "outputs": [],
   "metadata": {}
  },
  {
   "cell_type": "code",
   "execution_count": 13,
   "source": [
    "new_trans_data = []\n",
    "for d in trans_data.T:  # each dimension\n",
    "    new_trans_data.append(interpolate_data(d))\n",
    "new_trans_data = np.array(new_trans_data).T\n",
    "\n",
    "new_ori_data = []\n",
    "# for d in ori_data.T:\n",
    "#     new_ori_data.append(interpolate_data(d))\n",
    "# new_ori_data = np.array(new_ori_data).T\n",
    "new_rot = interpolate_quat(ori_data)\n",
    "for rot in new_rot:\n",
    "    new_ori_data += [rot.as_quat()]\n",
    "new_ori_data = np.vstack(new_ori_data)"
   ],
   "outputs": [],
   "metadata": {}
  },
  {
   "cell_type": "code",
   "execution_count": 14,
   "source": [
    "import copy\n",
    "save_dir = f'generated_trajs_quat_slerp/{env}'\n",
    "os.makedirs(save_dir, exist_ok=True)\n",
    "new_traj = copy.copy(dict(data))\n",
    "\n",
    "new_traj['object_translation'] = new_trans_data\n",
    "new_traj['object_orientation'] = new_ori_data\n",
    "print(new_traj.keys())\n",
    "np.savez(save_dir+f'/{env}', **new_traj)  # save a dict as npz"
   ],
   "outputs": [
    {
     "output_type": "stream",
     "name": "stdout",
     "text": [
      "dict_keys(['length', 'SIM_SUBSTEPS', 'DATA_SUBSTEPS', 'object_translation', 'object_orientation', 's_0'])\n"
     ]
    }
   ],
   "metadata": {}
  },
  {
   "cell_type": "code",
   "execution_count": 15,
   "source": [
    "def interpolate_trans(data, initial_point=None, random_sample=5):\n",
    "    points = np.random.uniform(np.min(data), np.max(data), size=random_sample)\n",
    "    if initial_point is not None: # set the same initial point as original traj\n",
    "        points[0] = initial_point\n",
    "    else:\n",
    "        points[0] = data[0]\n",
    "    len_points = points.shape[0]\n",
    "    f = interpolate.interp1d(np.arange(len_points), points, kind='quadratic', fill_value=\"extrapolate\")  # ‘linear’, ‘nearest’, ‘nearest-up’, ‘zero’, ‘slinear’, ‘quadratic’, ‘cubic’, ‘previous’, or ‘next’. \n",
    "\n",
    "    x_new = np.arange(0, len_points-1, (len_points-1)/data.shape[0])\n",
    "    y_new = f(x_new)\n",
    "    y_new[-1] = points[-1]\n",
    "    return y_new\n",
    "\n",
    "def interpolate_quat(data):\n",
    "    random_quat = np.random.uniform(0, 1, size=(1,4))\n",
    "    random_rot = R.from_quat(random_quat)\n",
    "    # what if final quat is not feasible (s.t. object intercepting the table)?\n",
    "\n",
    "    init_rot = R.from_quat(np.hstack((data[0,-1], data[0,:3])))\n",
    "    quats = R.concatenate([init_rot, random_rot])\n",
    "    len_quats = 2\n",
    "    f = Slerp(np.arange(len_quats), quats)\n",
    "\n",
    "    x_new = np.arange(0, len_quats-1, (len_quats-1)/data.shape[0])\n",
    "    y_new = f(x_new)\n",
    "    # y_new[-1] = len_quats[-1]\n",
    "    return y_new\n"
   ],
   "outputs": [],
   "metadata": {}
  },
  {
   "cell_type": "code",
   "execution_count": 17,
   "source": [
    "# loop over all envs\n",
    "import sys\n",
    "import copy\n",
    "sys.path.append(\"..\")\n",
    "from tcdm.common import ENVS\n",
    "\n",
    "for env in ENVS:\n",
    "    # try:\n",
    "    data = load_motion(f'{env}.npz')\n",
    "    trans_data = data['object_translation']\n",
    "    ori_data = data['object_orientation']\n",
    "\n",
    "    new_trans_data = []\n",
    "    for i, d in enumerate(trans_data.T):\n",
    "        if data['s_0']['motion_planned']['position'].shape[0] == 36: # 30 hand + 3 pos + 3 ori of object\n",
    "            initial_point = data['s_0']['motion_planned']['position'][30+i] # set the original position as initial sampled point position\n",
    "        else:\n",
    "            initial_point = None\n",
    "        new_trans_data.append(interpolate_trans(d, initial_point))\n",
    "    new_trans_data = np.array(new_trans_data).T\n",
    "\n",
    "    new_ori_data = []\n",
    "    new_rot = interpolate_quat(ori_data)\n",
    "    for rot in new_rot:\n",
    "        new_ori_data += [rot.as_quat()]\n",
    "    new_ori_data = np.array(new_ori_data)\n",
    "\n",
    "    print(f'{env}: {new_trans_data.shape}, {new_ori_data.shape}')\n",
    "\n",
    "    save_dir = f'generated_trajs_quat_slerp/{env}'\n",
    "    os.makedirs(save_dir, exist_ok=True)\n",
    "    new_traj = copy.copy(dict(data))\n",
    "\n",
    "    new_traj['object_translation'] = new_trans_data\n",
    "    new_traj['object_orientation'] = new_ori_data\n",
    "    new_traj['SIM_SUBSTEPS'] = int(data['SIM_SUBSTEPS']/3) # to adapt to current simulator\n",
    "    print('substeps: ', new_traj['SIM_SUBSTEPS'])\n",
    "    np.savez(save_dir+f'/{env}', **new_traj)  # save a dict as npz\n",
    "    # except:\n",
    "    #     print(f'{env} is not working, shape: {trans_data.shape}')\n"
   ],
   "outputs": [
    {
     "output_type": "error",
     "ename": "AttributeError",
     "evalue": "'list' object has no attribute 'shape'",
     "traceback": [
      "\u001b[0;31m---------------------------------------------------------------------------\u001b[0m",
      "\u001b[0;31mAttributeError\u001b[0m                            Traceback (most recent call last)",
      "Cell \u001b[0;32mIn [17], line 27\u001b[0m\n\u001b[1;32m     24\u001b[0m \u001b[38;5;28;01mfor\u001b[39;00m rot \u001b[38;5;129;01min\u001b[39;00m new_rot:\n\u001b[1;32m     25\u001b[0m     new_ori_data \u001b[38;5;241m+\u001b[39m\u001b[38;5;241m=\u001b[39m [rot\u001b[38;5;241m.\u001b[39mas_quat()]\n\u001b[0;32m---> 27\u001b[0m \u001b[38;5;28mprint\u001b[39m(\u001b[38;5;124mf\u001b[39m\u001b[38;5;124m'\u001b[39m\u001b[38;5;132;01m{\u001b[39;00menv\u001b[38;5;132;01m}\u001b[39;00m\u001b[38;5;124m: \u001b[39m\u001b[38;5;132;01m{\u001b[39;00mnew_trans_data\u001b[38;5;241m.\u001b[39mshape\u001b[38;5;132;01m}\u001b[39;00m\u001b[38;5;124m, \u001b[39m\u001b[38;5;132;01m{\u001b[39;00mnew_ori_data\u001b[38;5;241m.\u001b[39mshape\u001b[38;5;132;01m}\u001b[39;00m\u001b[38;5;124m'\u001b[39m)\n\u001b[1;32m     29\u001b[0m save_dir \u001b[38;5;241m=\u001b[39m \u001b[38;5;124mf\u001b[39m\u001b[38;5;124m'\u001b[39m\u001b[38;5;124mgenerated_trajs_quat_slerp/\u001b[39m\u001b[38;5;132;01m{\u001b[39;00menv\u001b[38;5;132;01m}\u001b[39;00m\u001b[38;5;124m'\u001b[39m\n\u001b[1;32m     30\u001b[0m os\u001b[38;5;241m.\u001b[39mmakedirs(save_dir, exist_ok\u001b[38;5;241m=\u001b[39m\u001b[38;5;28;01mTrue\u001b[39;00m)\n",
      "\u001b[0;31mAttributeError\u001b[0m: 'list' object has no attribute 'shape'"
     ]
    }
   ],
   "metadata": {}
  },
  {
   "cell_type": "code",
   "execution_count": null,
   "source": [],
   "outputs": [],
   "metadata": {}
  }
 ],
 "metadata": {
  "interpreter": {
   "hash": "0617d7a32527678373671ea5ec0af7a7e4bf99d3f2689590c513c60f82e7ffbe"
  },
  "kernelspec": {
   "name": "python3",
   "display_name": "Python 3.9.0 64-bit ('vima': conda)"
  },
  "language_info": {
   "codemirror_mode": {
    "name": "ipython",
    "version": 3
   },
   "file_extension": ".py",
   "mimetype": "text/x-python",
   "name": "python",
   "nbconvert_exporter": "python",
   "pygments_lexer": "ipython3",
   "version": "3.9.0"
  }
 },
 "nbformat": 4,
 "nbformat_minor": 5
}